{
  "nbformat": 4,
  "nbformat_minor": 0,
  "metadata": {
    "colab": {
      "provenance": [],
      "authorship_tag": "ABX9TyOn4Ex0Pw+jQ4yDo1CSzIhi",
      "include_colab_link": true
    },
    "kernelspec": {
      "name": "python3",
      "display_name": "Python 3"
    },
    "language_info": {
      "name": "python"
    }
  },
  "cells": [
    {
      "cell_type": "markdown",
      "metadata": {
        "id": "view-in-github",
        "colab_type": "text"
      },
      "source": [
        "<a href=\"https://colab.research.google.com/github/atonendeley/codingActivity/blob/main/method_override1.ipynb\" target=\"_parent\"><img src=\"https://colab.research.google.com/assets/colab-badge.svg\" alt=\"Open In Colab\"/></a>"
      ]
    },
    {
      "cell_type": "markdown",
      "source": [
        "## Atonye Endeley\n",
        "##10-030 OOP - Inheritance\n",
        "##Practical Task 2\n",
        "\n"
      ],
      "metadata": {
        "id": "zWEbmSU0ZHqe"
      }
    },
    {
      "cell_type": "code",
      "source": [
        "# This method takes user inputs and asks for their name, age, hair colour, and eye colour.\n",
        "# Define parent class\n",
        "class Adult:\n",
        "    # Class representing an adult.\n",
        "    def __init__(self, name, age, hair_colour, eye_colour):\n",
        "        # Initialise an Adult object.\n",
        "        self.name = name\n",
        "        self.age = age\n",
        "        self.hair_colour = hair_colour\n",
        "        self.eye_colour = eye_colour\n",
        "\n",
        "    def can_drive(self):\n",
        "        # This checks if the person is old enough to drive.\n",
        "        if self.age >= 18:\n",
        "            print(f\"{self.name} is old enough to drive.\")\n",
        "        else:\n",
        "            print(f\"{self.name} is too young to drive.\")\n",
        "\n",
        "class Child(Adult):\n",
        "    # Class representing a child, inherited from parent class.\n",
        "    def can_drive(self):\n",
        "        # Override the can_drive method for a Child.\n",
        "        print(f\"{self.name} is too young to drive.\")\n",
        "\n",
        "# Try block is used to generate an exception\n",
        "try:\n",
        "    # This takes user inputs for name, age, hair colour, and eye colour\n",
        "    name = input(\"Enter the person's name: \")\n",
        "    age = int(input(\"Enter the person's age: \"))\n",
        "    hair_colour = input(\"Enter the person's hair colour: \")\n",
        "    eye_colour = input(\"Enter the person's eye colour: \")\n",
        "\n",
        "    # This creates an instance for either parent or child class based on age\n",
        "    if age >= 18:\n",
        "        person = Adult(name, age, hair_colour, eye_colour)\n",
        "    else:\n",
        "        person = Child(name, age, hair_colour, eye_colour)\n",
        "\n",
        "    # This calls the can_drive method to check if the person can drive\n",
        "    person.can_drive()\n",
        "\n",
        "# This handles exception for value error\n",
        "except ValueError:\n",
        "    print(\"Invalid input for age. Please enter a valid integer.\")\n",
        "\n",
        "# except Exception as e: # this line can be added as additional exception not caught in previous block\n",
        "    #print(f\"An error occurred: {str(e)}\")\n"
      ],
      "metadata": {
        "colab": {
          "base_uri": "https://localhost:8080/"
        },
        "id": "hhpCMmGG_F-j",
        "outputId": "cd33d20e-68ef-4808-ad7b-1acaa2664db0"
      },
      "execution_count": null,
      "outputs": [
        {
          "output_type": "stream",
          "name": "stdout",
          "text": [
            "Enter the person's name: Amy\n",
            "Enter the person's age: tt\n",
            "Invalid input for age. Please enter a valid integer.\n"
          ]
        }
      ]
    }
  ]
}